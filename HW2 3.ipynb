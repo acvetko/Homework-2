{
 "cells": [
  {
   "cell_type": "markdown",
   "metadata": {},
   "source": [
    "\n",
    "# Train"
   ]
  },
  {
   "cell_type": "markdown",
   "metadata": {},
   "source": [
    "First I am going to import and load the housing train and test data. I'm going to append the training and testing data into the same dataframe for the cleaning so I can be sure that they will have the same dimensions when it's time to run models. "
   ]
  },
  {
   "cell_type": "code",
   "execution_count": 53,
   "metadata": {},
   "outputs": [],
   "source": [
    "import pandas as pd \n",
    "import numpy as np \n",
    "import csv \n",
    "from sklearn.model_selection import learning_curve \n",
    "from sklearn.metrics import make_scorer"
   ]
  },
  {
   "cell_type": "code",
   "execution_count": 54,
   "metadata": {},
   "outputs": [],
   "source": [
    "train_temp=pd.read_csv(r\"C:\\Users\\owner\\Documents\\Junior\\S2\\Machine_Learning\\HW2\\train.csv\")\n",
    "test=pd.read_csv(r\"C:\\Users\\owner\\Documents\\Junior\\S2\\Machine_Learning\\HW2\\test.csv\")\n",
    "ntrain = train_temp.shape[0]\n",
    "ntest = test.shape[0]"
   ]
  },
  {
   "cell_type": "code",
   "execution_count": 55,
   "metadata": {},
   "outputs": [
    {
     "name": "stdout",
     "output_type": "stream",
     "text": [
      "all_data size is : (2919, 80)\n"
     ]
    },
    {
     "name": "stderr",
     "output_type": "stream",
     "text": [
      "C:\\Users\\owner\\Anaconda3\\lib\\site-packages\\ipykernel_launcher.py:1: FutureWarning: Sorting because non-concatenation axis is not aligned. A future version\n",
      "of pandas will change to not sort by default.\n",
      "\n",
      "To accept the future behavior, pass 'sort=False'.\n",
      "\n",
      "To retain the current behavior and silence the warning, pass 'sort=True'.\n",
      "\n",
      "  \"\"\"Entry point for launching an IPython kernel.\n"
     ]
    }
   ],
   "source": [
    "all_data = pd.concat((train_temp, test)).reset_index(drop=True)\n",
    "all_data.drop(['SalePrice'], axis=1, inplace=True)\n",
    "print(\"all_data size is : {}\".format(all_data.shape))"
   ]
  },
  {
   "cell_type": "code",
   "execution_count": 56,
   "metadata": {
    "scrolled": true
   },
   "outputs": [
    {
     "data": {
      "text/html": [
       "<div>\n",
       "<style scoped>\n",
       "    .dataframe tbody tr th:only-of-type {\n",
       "        vertical-align: middle;\n",
       "    }\n",
       "\n",
       "    .dataframe tbody tr th {\n",
       "        vertical-align: top;\n",
       "    }\n",
       "\n",
       "    .dataframe thead th {\n",
       "        text-align: right;\n",
       "    }\n",
       "</style>\n",
       "<table border=\"1\" class=\"dataframe\">\n",
       "  <thead>\n",
       "    <tr style=\"text-align: right;\">\n",
       "      <th></th>\n",
       "      <th>1stFlrSF</th>\n",
       "      <th>2ndFlrSF</th>\n",
       "      <th>3SsnPorch</th>\n",
       "      <th>Alley</th>\n",
       "      <th>BedroomAbvGr</th>\n",
       "      <th>BldgType</th>\n",
       "      <th>BsmtCond</th>\n",
       "      <th>BsmtExposure</th>\n",
       "      <th>BsmtFinSF1</th>\n",
       "      <th>BsmtFinSF2</th>\n",
       "      <th>...</th>\n",
       "      <th>SaleType</th>\n",
       "      <th>ScreenPorch</th>\n",
       "      <th>Street</th>\n",
       "      <th>TotRmsAbvGrd</th>\n",
       "      <th>TotalBsmtSF</th>\n",
       "      <th>Utilities</th>\n",
       "      <th>WoodDeckSF</th>\n",
       "      <th>YearBuilt</th>\n",
       "      <th>YearRemodAdd</th>\n",
       "      <th>YrSold</th>\n",
       "    </tr>\n",
       "  </thead>\n",
       "  <tbody>\n",
       "    <tr>\n",
       "      <th>0</th>\n",
       "      <td>856</td>\n",
       "      <td>854</td>\n",
       "      <td>0</td>\n",
       "      <td>NaN</td>\n",
       "      <td>3</td>\n",
       "      <td>1Fam</td>\n",
       "      <td>TA</td>\n",
       "      <td>No</td>\n",
       "      <td>706.0</td>\n",
       "      <td>0.0</td>\n",
       "      <td>...</td>\n",
       "      <td>WD</td>\n",
       "      <td>0</td>\n",
       "      <td>Pave</td>\n",
       "      <td>8</td>\n",
       "      <td>856.0</td>\n",
       "      <td>AllPub</td>\n",
       "      <td>0</td>\n",
       "      <td>2003</td>\n",
       "      <td>2003</td>\n",
       "      <td>2008</td>\n",
       "    </tr>\n",
       "    <tr>\n",
       "      <th>1</th>\n",
       "      <td>1262</td>\n",
       "      <td>0</td>\n",
       "      <td>0</td>\n",
       "      <td>NaN</td>\n",
       "      <td>3</td>\n",
       "      <td>1Fam</td>\n",
       "      <td>TA</td>\n",
       "      <td>Gd</td>\n",
       "      <td>978.0</td>\n",
       "      <td>0.0</td>\n",
       "      <td>...</td>\n",
       "      <td>WD</td>\n",
       "      <td>0</td>\n",
       "      <td>Pave</td>\n",
       "      <td>6</td>\n",
       "      <td>1262.0</td>\n",
       "      <td>AllPub</td>\n",
       "      <td>298</td>\n",
       "      <td>1976</td>\n",
       "      <td>1976</td>\n",
       "      <td>2007</td>\n",
       "    </tr>\n",
       "    <tr>\n",
       "      <th>2</th>\n",
       "      <td>920</td>\n",
       "      <td>866</td>\n",
       "      <td>0</td>\n",
       "      <td>NaN</td>\n",
       "      <td>3</td>\n",
       "      <td>1Fam</td>\n",
       "      <td>TA</td>\n",
       "      <td>Mn</td>\n",
       "      <td>486.0</td>\n",
       "      <td>0.0</td>\n",
       "      <td>...</td>\n",
       "      <td>WD</td>\n",
       "      <td>0</td>\n",
       "      <td>Pave</td>\n",
       "      <td>6</td>\n",
       "      <td>920.0</td>\n",
       "      <td>AllPub</td>\n",
       "      <td>0</td>\n",
       "      <td>2001</td>\n",
       "      <td>2002</td>\n",
       "      <td>2008</td>\n",
       "    </tr>\n",
       "    <tr>\n",
       "      <th>3</th>\n",
       "      <td>961</td>\n",
       "      <td>756</td>\n",
       "      <td>0</td>\n",
       "      <td>NaN</td>\n",
       "      <td>3</td>\n",
       "      <td>1Fam</td>\n",
       "      <td>Gd</td>\n",
       "      <td>No</td>\n",
       "      <td>216.0</td>\n",
       "      <td>0.0</td>\n",
       "      <td>...</td>\n",
       "      <td>WD</td>\n",
       "      <td>0</td>\n",
       "      <td>Pave</td>\n",
       "      <td>7</td>\n",
       "      <td>756.0</td>\n",
       "      <td>AllPub</td>\n",
       "      <td>0</td>\n",
       "      <td>1915</td>\n",
       "      <td>1970</td>\n",
       "      <td>2006</td>\n",
       "    </tr>\n",
       "    <tr>\n",
       "      <th>4</th>\n",
       "      <td>1145</td>\n",
       "      <td>1053</td>\n",
       "      <td>0</td>\n",
       "      <td>NaN</td>\n",
       "      <td>4</td>\n",
       "      <td>1Fam</td>\n",
       "      <td>TA</td>\n",
       "      <td>Av</td>\n",
       "      <td>655.0</td>\n",
       "      <td>0.0</td>\n",
       "      <td>...</td>\n",
       "      <td>WD</td>\n",
       "      <td>0</td>\n",
       "      <td>Pave</td>\n",
       "      <td>9</td>\n",
       "      <td>1145.0</td>\n",
       "      <td>AllPub</td>\n",
       "      <td>192</td>\n",
       "      <td>2000</td>\n",
       "      <td>2000</td>\n",
       "      <td>2008</td>\n",
       "    </tr>\n",
       "  </tbody>\n",
       "</table>\n",
       "<p>5 rows × 80 columns</p>\n",
       "</div>"
      ],
      "text/plain": [
       "   1stFlrSF  2ndFlrSF  3SsnPorch Alley  BedroomAbvGr BldgType BsmtCond  \\\n",
       "0       856       854          0   NaN             3     1Fam       TA   \n",
       "1      1262         0          0   NaN             3     1Fam       TA   \n",
       "2       920       866          0   NaN             3     1Fam       TA   \n",
       "3       961       756          0   NaN             3     1Fam       Gd   \n",
       "4      1145      1053          0   NaN             4     1Fam       TA   \n",
       "\n",
       "  BsmtExposure  BsmtFinSF1  BsmtFinSF2  ...   SaleType ScreenPorch  Street  \\\n",
       "0           No       706.0         0.0  ...         WD           0    Pave   \n",
       "1           Gd       978.0         0.0  ...         WD           0    Pave   \n",
       "2           Mn       486.0         0.0  ...         WD           0    Pave   \n",
       "3           No       216.0         0.0  ...         WD           0    Pave   \n",
       "4           Av       655.0         0.0  ...         WD           0    Pave   \n",
       "\n",
       "   TotRmsAbvGrd TotalBsmtSF  Utilities WoodDeckSF YearBuilt YearRemodAdd  \\\n",
       "0             8       856.0     AllPub          0      2003         2003   \n",
       "1             6      1262.0     AllPub        298      1976         1976   \n",
       "2             6       920.0     AllPub          0      2001         2002   \n",
       "3             7       756.0     AllPub          0      1915         1970   \n",
       "4             9      1145.0     AllPub        192      2000         2000   \n",
       "\n",
       "  YrSold  \n",
       "0   2008  \n",
       "1   2007  \n",
       "2   2008  \n",
       "3   2006  \n",
       "4   2008  \n",
       "\n",
       "[5 rows x 80 columns]"
      ]
     },
     "execution_count": 56,
     "metadata": {},
     "output_type": "execute_result"
    }
   ],
   "source": [
    "all_data.head()"
   ]
  },
  {
   "cell_type": "markdown",
   "metadata": {},
   "source": [
    "I am going to check the set for missing data and fill in missing data accordingly with what makes sense from the variable description.\n"
   ]
  },
  {
   "cell_type": "code",
   "execution_count": 57,
   "metadata": {
    "scrolled": true
   },
   "outputs": [
    {
     "data": {
      "text/plain": [
       "PoolQC          0.996574\n",
       "MiscFeature     0.964029\n",
       "Alley           0.932169\n",
       "Fence           0.804385\n",
       "FireplaceQu     0.486468\n",
       "LotFrontage     0.166495\n",
       "GarageQual      0.054471\n",
       "GarageFinish    0.054471\n",
       "GarageYrBlt     0.054471\n",
       "GarageCond      0.054471\n",
       "GarageType      0.053786\n",
       "BsmtCond        0.028092\n",
       "BsmtExposure    0.028092\n",
       "BsmtQual        0.027749\n",
       "BsmtFinType2    0.027407\n",
       "BsmtFinType1    0.027064\n",
       "MasVnrType      0.008222\n",
       "MasVnrArea      0.007879\n",
       "MSZoning        0.001370\n",
       "BsmtFullBath    0.000685\n",
       "BsmtHalfBath    0.000685\n",
       "Utilities       0.000685\n",
       "Functional      0.000685\n",
       "Electrical      0.000343\n",
       "Exterior2nd     0.000343\n",
       "KitchenQual     0.000343\n",
       "Exterior1st     0.000343\n",
       "GarageCars      0.000343\n",
       "TotalBsmtSF     0.000343\n",
       "GarageArea      0.000343\n",
       "BsmtUnfSF       0.000343\n",
       "BsmtFinSF2      0.000343\n",
       "BsmtFinSF1      0.000343\n",
       "SaleType        0.000343\n",
       "Condition2      0.000000\n",
       "FullBath        0.000000\n",
       "2ndFlrSF        0.000000\n",
       "3SsnPorch       0.000000\n",
       "BedroomAbvGr    0.000000\n",
       "BldgType        0.000000\n",
       "dtype: float64"
      ]
     },
     "execution_count": 57,
     "metadata": {},
     "output_type": "execute_result"
    }
   ],
   "source": [
    "df_missing=(all_data.isnull().sum()/len(all_data))\n",
    "df_missing.sort_values(ascending=False).head(40)"
   ]
  },
  {
   "cell_type": "markdown",
   "metadata": {},
   "source": [
    "From the above list it is clar that several variables have signifigant amounts of missing data. I will have to deal with this before using the data. "
   ]
  },
  {
   "cell_type": "markdown",
   "metadata": {},
   "source": [
    "From the data description, PoolQC is \"pool quality.\" A NaN indicates that there is no pool. So it's not necessarily that pool quality just wasn't sampled, it's just that there aren't very many pools. So I feel comfortable filling in the missing data with 0. It's the same with MiscFeature, Alley, Fence, FireplaceQu, and all the garage/basement/masonry veneer information."
   ]
  },
  {
   "cell_type": "code",
   "execution_count": 58,
   "metadata": {},
   "outputs": [
    {
     "data": {
      "text/plain": [
       "(2919, 80)"
      ]
     },
     "execution_count": 58,
     "metadata": {},
     "output_type": "execute_result"
    }
   ],
   "source": [
    "all_data['PoolQC'].fillna(0, inplace=True)\n",
    "all_data['MiscFeature'].fillna(0, inplace=True)\n",
    "all_data['Alley'].fillna(0, inplace=True)\n",
    "all_data['Fence'].fillna(0, inplace=True)\n",
    "all_data['FireplaceQu'].fillna(0, inplace=True)\n",
    "all_data['GarageCond'].fillna(0, inplace=True)\n",
    "all_data['GarageType'].fillna(0, inplace=True)\n",
    "all_data['GarageQual'].fillna(0, inplace=True)\n",
    "all_data['GarageFinish'].fillna(0, inplace=True)\n",
    "all_data['GarageYrBlt'].fillna(0, inplace=True)\n",
    "all_data['BsmtExposure'].fillna(0, inplace=True)\n",
    "all_data['BsmtFinType2'].fillna(0, inplace=True)\n",
    "all_data['BsmtQual'].fillna(0, inplace=True)\n",
    "all_data['BsmtCond'].fillna(0, inplace=True)\n",
    "all_data['BsmtFinType1'].fillna(0, inplace=True)\n",
    "all_data['MasVnrArea'].fillna(0, inplace=True)\n",
    "all_data['MasVnrType'].fillna(0, inplace=True)\n",
    "all_data['BsmtHalfBath'].fillna(0, inplace=True)\n",
    "all_data['BsmtFullBath'].fillna(0, inplace=True)\n",
    "all_data['BsmtFinSF1'].fillna(0, inplace=True)\n",
    "all_data['GarageCars'].fillna(0, inplace=True)\n",
    "all_data['TotalBsmtSF'].fillna(0, inplace=True)\n",
    "all_data['BsmtUnfSF'].fillna(0, inplace=True)\n",
    "all_data['BsmtFinSF2'].fillna(0, inplace=True)\n",
    "all_data['GarageArea'].fillna(0, inplace=True)\n",
    "all_data.shape"
   ]
  },
  {
   "cell_type": "markdown",
   "metadata": {},
   "source": [
    "The Kaggle Data Description says LotFrontage is the \"linear feet of street connected to the property.\" This is probably does impact housing prices, so I want to be able to use it in my estimates. As shown below, there are no homes with \"0\" LotFrontage, but google searching indicates that there aren't very many homes that have \"0\" lot frontage, and certainly not 18%. So I can't fill missing values in with a 0 like I  did before. Plus, below it is shown that LotFrontage being listed as \"NaN\" has nothing to do with how close it is to the street or what type of street it is, so I have to assume that LotFrontage missing isn't indicating lack of frontage, just poor data."
   ]
  },
  {
   "cell_type": "code",
   "execution_count": 59,
   "metadata": {},
   "outputs": [
    {
     "data": {
      "text/plain": [
       "1651    21.0\n",
       "649     21.0\n",
       "1007    21.0\n",
       "2603    21.0\n",
       "2601    21.0\n",
       "Name: LotFrontage, dtype: float64"
      ]
     },
     "execution_count": 59,
     "metadata": {},
     "output_type": "execute_result"
    }
   ],
   "source": [
    "all_data['LotFrontage'].sort_values().head()"
   ]
  },
  {
   "cell_type": "code",
   "execution_count": 60,
   "metadata": {},
   "outputs": [
    {
     "data": {
      "text/plain": [
       "69.30579531442663"
      ]
     },
     "execution_count": 60,
     "metadata": {},
     "output_type": "execute_result"
    }
   ],
   "source": [
    "all_data['LotFrontage'].mean()"
   ]
  },
  {
   "cell_type": "code",
   "execution_count": 61,
   "metadata": {},
   "outputs": [
    {
     "data": {
      "text/html": [
       "<div>\n",
       "<style scoped>\n",
       "    .dataframe tbody tr th:only-of-type {\n",
       "        vertical-align: middle;\n",
       "    }\n",
       "\n",
       "    .dataframe tbody tr th {\n",
       "        vertical-align: top;\n",
       "    }\n",
       "\n",
       "    .dataframe thead th {\n",
       "        text-align: right;\n",
       "    }\n",
       "</style>\n",
       "<table border=\"1\" class=\"dataframe\">\n",
       "  <thead>\n",
       "    <tr style=\"text-align: right;\">\n",
       "      <th></th>\n",
       "      <th>LotFrontage</th>\n",
       "      <th>Condition1</th>\n",
       "      <th>Street</th>\n",
       "    </tr>\n",
       "  </thead>\n",
       "  <tbody>\n",
       "    <tr>\n",
       "      <th>0</th>\n",
       "      <td>65.0</td>\n",
       "      <td>Norm</td>\n",
       "      <td>Pave</td>\n",
       "    </tr>\n",
       "    <tr>\n",
       "      <th>1</th>\n",
       "      <td>80.0</td>\n",
       "      <td>Feedr</td>\n",
       "      <td>Pave</td>\n",
       "    </tr>\n",
       "    <tr>\n",
       "      <th>2</th>\n",
       "      <td>68.0</td>\n",
       "      <td>Norm</td>\n",
       "      <td>Pave</td>\n",
       "    </tr>\n",
       "    <tr>\n",
       "      <th>3</th>\n",
       "      <td>60.0</td>\n",
       "      <td>Norm</td>\n",
       "      <td>Pave</td>\n",
       "    </tr>\n",
       "    <tr>\n",
       "      <th>4</th>\n",
       "      <td>84.0</td>\n",
       "      <td>Norm</td>\n",
       "      <td>Pave</td>\n",
       "    </tr>\n",
       "    <tr>\n",
       "      <th>5</th>\n",
       "      <td>85.0</td>\n",
       "      <td>Norm</td>\n",
       "      <td>Pave</td>\n",
       "    </tr>\n",
       "    <tr>\n",
       "      <th>6</th>\n",
       "      <td>75.0</td>\n",
       "      <td>Norm</td>\n",
       "      <td>Pave</td>\n",
       "    </tr>\n",
       "    <tr>\n",
       "      <th>7</th>\n",
       "      <td>NaN</td>\n",
       "      <td>PosN</td>\n",
       "      <td>Pave</td>\n",
       "    </tr>\n",
       "    <tr>\n",
       "      <th>8</th>\n",
       "      <td>51.0</td>\n",
       "      <td>Artery</td>\n",
       "      <td>Pave</td>\n",
       "    </tr>\n",
       "    <tr>\n",
       "      <th>9</th>\n",
       "      <td>50.0</td>\n",
       "      <td>Artery</td>\n",
       "      <td>Pave</td>\n",
       "    </tr>\n",
       "    <tr>\n",
       "      <th>10</th>\n",
       "      <td>70.0</td>\n",
       "      <td>Norm</td>\n",
       "      <td>Pave</td>\n",
       "    </tr>\n",
       "    <tr>\n",
       "      <th>11</th>\n",
       "      <td>85.0</td>\n",
       "      <td>Norm</td>\n",
       "      <td>Pave</td>\n",
       "    </tr>\n",
       "    <tr>\n",
       "      <th>12</th>\n",
       "      <td>NaN</td>\n",
       "      <td>Norm</td>\n",
       "      <td>Pave</td>\n",
       "    </tr>\n",
       "    <tr>\n",
       "      <th>13</th>\n",
       "      <td>91.0</td>\n",
       "      <td>Norm</td>\n",
       "      <td>Pave</td>\n",
       "    </tr>\n",
       "    <tr>\n",
       "      <th>14</th>\n",
       "      <td>NaN</td>\n",
       "      <td>Norm</td>\n",
       "      <td>Pave</td>\n",
       "    </tr>\n",
       "    <tr>\n",
       "      <th>15</th>\n",
       "      <td>51.0</td>\n",
       "      <td>Norm</td>\n",
       "      <td>Pave</td>\n",
       "    </tr>\n",
       "    <tr>\n",
       "      <th>16</th>\n",
       "      <td>NaN</td>\n",
       "      <td>Norm</td>\n",
       "      <td>Pave</td>\n",
       "    </tr>\n",
       "    <tr>\n",
       "      <th>17</th>\n",
       "      <td>72.0</td>\n",
       "      <td>Norm</td>\n",
       "      <td>Pave</td>\n",
       "    </tr>\n",
       "    <tr>\n",
       "      <th>18</th>\n",
       "      <td>66.0</td>\n",
       "      <td>RRAe</td>\n",
       "      <td>Pave</td>\n",
       "    </tr>\n",
       "    <tr>\n",
       "      <th>19</th>\n",
       "      <td>70.0</td>\n",
       "      <td>Norm</td>\n",
       "      <td>Pave</td>\n",
       "    </tr>\n",
       "  </tbody>\n",
       "</table>\n",
       "</div>"
      ],
      "text/plain": [
       "    LotFrontage Condition1 Street\n",
       "0          65.0       Norm   Pave\n",
       "1          80.0      Feedr   Pave\n",
       "2          68.0       Norm   Pave\n",
       "3          60.0       Norm   Pave\n",
       "4          84.0       Norm   Pave\n",
       "5          85.0       Norm   Pave\n",
       "6          75.0       Norm   Pave\n",
       "7           NaN       PosN   Pave\n",
       "8          51.0     Artery   Pave\n",
       "9          50.0     Artery   Pave\n",
       "10         70.0       Norm   Pave\n",
       "11         85.0       Norm   Pave\n",
       "12          NaN       Norm   Pave\n",
       "13         91.0       Norm   Pave\n",
       "14          NaN       Norm   Pave\n",
       "15         51.0       Norm   Pave\n",
       "16          NaN       Norm   Pave\n",
       "17         72.0       Norm   Pave\n",
       "18         66.0       RRAe   Pave\n",
       "19         70.0       Norm   Pave"
      ]
     },
     "execution_count": 61,
     "metadata": {},
     "output_type": "execute_result"
    }
   ],
   "source": [
    "all_data[['LotFrontage','Condition1','Street']].head(20)"
   ]
  },
  {
   "cell_type": "code",
   "execution_count": 62,
   "metadata": {},
   "outputs": [
    {
     "data": {
      "text/plain": [
       "<matplotlib.axes._subplots.AxesSubplot at 0x1b4a3d97eb8>"
      ]
     },
     "execution_count": 62,
     "metadata": {},
     "output_type": "execute_result"
    },
    {
     "data": {
      "image/png": "[encoded data removed]",
      "text/plain": [
       "<Figure size 432x288 with 1 Axes>"
      ]
     },
     "metadata": {},
     "output_type": "display_data"
    }
   ],
   "source": [
    "import seaborn as sns\n",
    "sns.set(style=\"whitegrid\")\n",
    "testing_frontage=sns.boxplot(x=\"Neighborhood\", y=\"LotFrontage\", data=all_data)\n",
    "testing_frontage"
   ]
  },
  {
   "cell_type": "markdown",
   "metadata": {},
   "source": [
    "The above figure shows the spread of lot frontage by neighborhood. There's a few noticible neighborhoods where lotfrontage has pretty noticeable varience, but for the most part neighborhood seems to be a good indicator of lot frontage. So I will fill missing lot frontage with the average of its neighborhood. "
   ]
  },
  {
   "cell_type": "code",
   "execution_count": 63,
   "metadata": {},
   "outputs": [],
   "source": [
    "all_data[\"LotFrontage\"] = all_data.groupby(\"Neighborhood\")[\"LotFrontage\"].transform(\n",
    "    lambda x: x.fillna(x.median()))"
   ]
  },
  {
   "cell_type": "markdown",
   "metadata": {},
   "source": [
    "Below I will MSSubClass, (which is a numerical variable), into a string. The reason for this is that the data description makes it clear that the number assignments are not cardinal or even ordinal in anyway, just a placeholder to differenciate between classes. Stringing it will make sure that my models don't take the number assignment as anything other than a tag. I also want to generate a total squarefoot variable, because even though it is just a linear combination of other variables in my set, total squarefoot is a very important measure in purchasing a home."
   ]
  },
  {
   "cell_type": "code",
   "execution_count": 64,
   "metadata": {},
   "outputs": [],
   "source": [
    "all_data['MSSubClass']=all_data['MSSubClass'].apply(str)"
   ]
  },
  {
   "cell_type": "code",
   "execution_count": 65,
   "metadata": {},
   "outputs": [],
   "source": [
    "all_data['total_sqrft']=all_data['TotalBsmtSF'] + all_data['1stFlrSF'] + all_data['2ndFlrSF']"
   ]
  },
  {
   "cell_type": "code",
   "execution_count": 66,
   "metadata": {},
   "outputs": [],
   "source": [
    "all_data=all_data.drop(['Id',], axis=1)"
   ]
  },
  {
   "cell_type": "code",
   "execution_count": 67,
   "metadata": {},
   "outputs": [
    {
     "data": {
      "text/plain": [
       "(2919, 80)"
      ]
     },
     "execution_count": 67,
     "metadata": {},
     "output_type": "execute_result"
    }
   ],
   "source": [
    "all_data.shape"
   ]
  },
  {
   "cell_type": "code",
   "execution_count": 68,
   "metadata": {},
   "outputs": [
    {
     "data": {
      "text/plain": [
       "(2919, 319)"
      ]
     },
     "execution_count": 68,
     "metadata": {},
     "output_type": "execute_result"
    }
   ],
   "source": [
    "all_data=pd.get_dummies(all_data)\n",
    "all_data.shape"
   ]
  },
  {
   "cell_type": "code",
   "execution_count": 69,
   "metadata": {},
   "outputs": [
    {
     "name": "stdout",
     "output_type": "stream",
     "text": [
      "(1459, 319) (1460, 319)\n"
     ]
    }
   ],
   "source": [
    "train_temp = all_data[:ntrain]\n",
    "test = all_data[ntrain:]\n",
    "print(test.shape, train_temp.shape) "
   ]
  },
  {
   "cell_type": "markdown",
   "metadata": {},
   "source": [
    "Now that I am assured I will have the \"test\" data in the same shape as the train data, I will go back and clean the train data independently in the same way, and keep SalePrice, and remove outliers. \n"
   ]
  },
  {
   "cell_type": "code",
   "execution_count": 70,
   "metadata": {},
   "outputs": [
    {
     "data": {
      "text/plain": [
       "(1460, 319)"
      ]
     },
     "execution_count": 70,
     "metadata": {},
     "output_type": "execute_result"
    }
   ],
   "source": [
    "train=pd.read_csv(r\"C:\\Users\\owner\\Documents\\Junior\\S2\\Machine_Learning\\HW2\\train.csv\")\n",
    "train['PoolQC'].fillna(0, inplace=True)\n",
    "train['MiscFeature'].fillna(0, inplace=True)\n",
    "train['Alley'].fillna(0, inplace=True)\n",
    "train['Fence'].fillna(0, inplace=True)\n",
    "train['FireplaceQu'].fillna(0, inplace=True)\n",
    "train['GarageCond'].fillna(0, inplace=True)\n",
    "train['GarageType'].fillna(0, inplace=True)\n",
    "train['GarageQual'].fillna(0, inplace=True)\n",
    "train['GarageFinish'].fillna(0, inplace=True)\n",
    "train['GarageYrBlt'].fillna(0, inplace=True)\n",
    "train['BsmtExposure'].fillna(0, inplace=True)\n",
    "train['BsmtFinType2'].fillna(0, inplace=True)\n",
    "train['BsmtQual'].fillna(0, inplace=True)\n",
    "train['BsmtCond'].fillna(0, inplace=True)\n",
    "train['BsmtFinType1'].fillna(0, inplace=True)\n",
    "train['MasVnrArea'].fillna(0, inplace=True)\n",
    "train['MasVnrType'].fillna(0, inplace=True)\n",
    "train['BsmtHalfBath'].fillna(0, inplace=True)\n",
    "train['BsmtFullBath'].fillna(0, inplace=True)\n",
    "train['BsmtFinSF1'].fillna(0, inplace=True)\n",
    "train['GarageCars'].fillna(0, inplace=True)\n",
    "train['TotalBsmtSF'].fillna(0, inplace=True)\n",
    "train['BsmtUnfSF'].fillna(0, inplace=True)\n",
    "train['BsmtFinSF2'].fillna(0, inplace=True)\n",
    "train['GarageArea'].fillna(0, inplace=True)\n",
    "train[\"LotFrontage\"] = train.groupby(\"Neighborhood\")[\"LotFrontage\"].transform(\n",
    "    lambda x: x.fillna(x.median()))\n",
    "train['MSSubClass']=train['MSSubClass'].apply(str)\n",
    "train['total_sqrft']=train['TotalBsmtSF'] + train['1stFlrSF'] + train['2ndFlrSF']\n",
    "train=train.drop(['Id',], axis=1)\n",
    "train=pd.get_dummies(train)\n",
    "train.shape"
   ]
  },
  {
   "cell_type": "code",
   "execution_count": 71,
   "metadata": {},
   "outputs": [
    {
     "data": {
      "text/plain": [
       "<matplotlib.collections.PathCollection at 0x1b4a3db8c50>"
      ]
     },
     "execution_count": 71,
     "metadata": {},
     "output_type": "execute_result"
    },
    {
     "data": {
      "image/png": "[encoded data removed]",
      "text/plain": [
       "<Figure size 432x288 with 1 Axes>"
      ]
     },
     "metadata": {},
     "output_type": "display_data"
    }
   ],
   "source": [
    "import matplotlib.pyplot as plt\n",
    "fig, ax = plt.subplots()\n",
    "ax.scatter(x = train['GrLivArea'], y = train['SalePrice'])"
   ]
  },
  {
   "cell_type": "markdown",
   "metadata": {},
   "source": [
    "There are some clear outliers which have a huge area, but suprisingly low price. I'm going to drop them out of the sample so they don't skew the estimates. "
   ]
  },
  {
   "cell_type": "code",
   "execution_count": 72,
   "metadata": {},
   "outputs": [
    {
     "data": {
      "text/plain": [
       "(1458, 319)"
      ]
     },
     "execution_count": 72,
     "metadata": {},
     "output_type": "execute_result"
    }
   ],
   "source": [
    "train = train.drop(train[(train['GrLivArea']>4000) & (train['SalePrice']<300000)].index)\n",
    "train.shape"
   ]
  },
  {
   "cell_type": "markdown",
   "metadata": {},
   "source": [
    "### Linear and Polynomial Regressions"
   ]
  },
  {
   "cell_type": "markdown",
   "metadata": {},
   "source": [
    "I'm first going to run a basic Linear Regression Model and Polynomial Model and just see where I currently am with my predictive power. I'm going to import the needed libraries and scale my data."
   ]
  },
  {
   "cell_type": "code",
   "execution_count": 73,
   "metadata": {},
   "outputs": [],
   "source": [
    "from sklearn.linear_model import SGDRegressor\n",
    "from sklearn.metrics import mean_squared_error\n",
    "from sklearn.preprocessing import StandardScaler"
   ]
  },
  {
   "cell_type": "code",
   "execution_count": 76,
   "metadata": {},
   "outputs": [
    {
     "name": "stderr",
     "output_type": "stream",
     "text": [
      "C:\\Users\\owner\\Anaconda3\\lib\\site-packages\\sklearn\\preprocessing\\data.py:625: DataConversionWarning: Data with input dtype uint8, int64, float64 were all converted to float64 by StandardScaler.\n",
      "  return self.partial_fit(X, y)\n",
      "C:\\Users\\owner\\Anaconda3\\lib\\site-packages\\ipykernel_launcher.py:3: DataConversionWarning: Data with input dtype uint8, int64, float64 were all converted to float64 by StandardScaler.\n",
      "  This is separate from the ipykernel package so we can avoid doing imports until\n"
     ]
    },
    {
     "data": {
      "text/plain": [
       "(1458, 319)"
      ]
     },
     "execution_count": 76,
     "metadata": {},
     "output_type": "execute_result"
    }
   ],
   "source": [
    "scaler=StandardScaler()\n",
    "scaler.fit(train)\n",
    "scaled_df=scaler.transform(train)\n",
    "scaled_df.shape"
   ]
  },
  {
   "cell_type": "code",
   "execution_count": 77,
   "metadata": {},
   "outputs": [
    {
     "name": "stdout",
     "output_type": "stream",
     "text": [
      "RMSE: 10373442.721975977\n"
     ]
    }
   ],
   "source": [
    "linear_regression_model = SGDRegressor(tol=.0001, eta0=.01, max_iter=5000)\n",
    "linear_regression_model.fit(scaled_df, train['SalePrice'])\n",
    "predictions = linear_regression_model.predict(scaled_df)\n",
    "mse = mean_squared_error(train['SalePrice'], predictions)\n",
    "print(\"RMSE: {}\".format(np.sqrt(mse)))"
   ]
  },
  {
   "cell_type": "markdown",
   "metadata": {},
   "source": [
    "As a benchmark, the linear regression with a tolerance of .0001, learning rate of .01 and max iterations set to 5000 does not have great predictive power because the RMSE is so large."
   ]
  },
  {
   "cell_type": "code",
   "execution_count": 78,
   "metadata": {},
   "outputs": [],
   "source": [
    "from sklearn.preprocessing import PolynomialFeatures"
   ]
  },
  {
   "cell_type": "code",
   "execution_count": 79,
   "metadata": {},
   "outputs": [
    {
     "name": "stdout",
     "output_type": "stream",
     "text": [
      "RMSE: 2273675242707.147\n"
     ]
    }
   ],
   "source": [
    "poly=PolynomialFeatures(2, include_bias=False)\n",
    "poly_df=poly.fit_transform(train)\n",
    "scaled_poly_df=scaler.fit_transform(poly_df) \n",
    "\n",
    "linear_regression_model = SGDRegressor(tol=.000001, eta0=.001, max_iter=20000)\n",
    "linear_regression_model.fit(scaled_poly_df, train['SalePrice'])\n",
    "predictions = linear_regression_model.predict(scaled_poly_df)\n",
    "mse = mean_squared_error(train['SalePrice'], predictions)\n",
    "print(\"RMSE: {}\".format(np.sqrt(mse)))"
   ]
  },
  {
   "cell_type": "markdown",
   "metadata": {},
   "source": [
    "I'm not happy with the size of my mean squared errors, so I'm going back to the data. Below it shows \"SalePrice\", my dependent variable, has a positive skew. I'm going to fix the skew with replacing the sale price with the log of sale price and run it again. "
   ]
  },
  {
   "cell_type": "code",
   "execution_count": 80,
   "metadata": {},
   "outputs": [
    {
     "name": "stdout",
     "output_type": "stream",
     "text": [
      "\n",
      " mu = 180932.92 and sigma = 79467.79\n",
      "\n"
     ]
    },
    {
     "name": "stderr",
     "output_type": "stream",
     "text": [
      "C:\\Users\\owner\\Anaconda3\\lib\\site-packages\\scipy\\stats\\stats.py:1713: FutureWarning: Using a non-tuple sequence for multidimensional indexing is deprecated; use `arr[tuple(seq)]` instead of `arr[seq]`. In the future this will be interpreted as an array index, `arr[np.array(seq)]`, which will result either in an error or a different result.\n",
      "  return np.add.reduce(sorted[indexer] * weights, axis=axis) / sumval\n"
     ]
    },
    {
     "data": {
      "image/png": "[encoded data removed]",
      "text/plain": [
       "<Figure size 432x288 with 1 Axes>"
      ]
     },
     "metadata": {},
     "output_type": "display_data"
    }
   ],
   "source": [
    "from scipy.stats import norm, skew\n",
    "sns.distplot(train['SalePrice'], fit=norm); \n",
    "(mu, sigma) = norm.fit(train['SalePrice'])\n",
    "print( '\\n mu = {:.2f} and sigma = {:.2f}\\n'.format(mu, sigma))\n"
   ]
  },
  {
   "cell_type": "code",
   "execution_count": 81,
   "metadata": {},
   "outputs": [],
   "source": [
    "train['SalePrice']=np.log1p(train['SalePrice'])"
   ]
  },
  {
   "cell_type": "code",
   "execution_count": 82,
   "metadata": {},
   "outputs": [
    {
     "name": "stdout",
     "output_type": "stream",
     "text": [
      "\n",
      " mu = 12.02 and sigma = 0.40\n",
      "\n"
     ]
    },
    {
     "data": {
      "image/png": "[encoded data removed]",
      "text/plain": [
       "<Figure size 432x288 with 1 Axes>"
      ]
     },
     "metadata": {},
     "output_type": "display_data"
    }
   ],
   "source": [
    "from scipy.stats import norm, skew\n",
    "sns.distplot(train['SalePrice'], fit=norm); \n",
    "(mu, sigma) = norm.fit(train['SalePrice'])\n",
    "print( '\\n mu = {:.2f} and sigma = {:.2f}\\n'.format(mu, sigma))\n"
   ]
  },
  {
   "cell_type": "code",
   "execution_count": 83,
   "metadata": {},
   "outputs": [
    {
     "name": "stdout",
     "output_type": "stream",
     "text": [
      "RMSE: 0.06383030799969347\n"
     ]
    }
   ],
   "source": [
    "linear_regression_model=SGDRegressor(tol=.0000001, eta0=.001, max_iter=20000)\n",
    "linear_regression_model.fit(scaled_df, train['SalePrice']) \n",
    "prediction=linear_regression_model.predict(scaled_df)\n",
    "mse=mean_squared_error(train['SalePrice'], prediction)\n",
    "print(\"RMSE: {}\".format(np.sqrt(mse)))"
   ]
  },
  {
   "cell_type": "markdown",
   "metadata": {},
   "source": [
    "Immediatley it is clear that correcting  my SalePrice and making it a more normal distribution greatly improves my predictive power, even in the linear model."
   ]
  },
  {
   "cell_type": "code",
   "execution_count": 84,
   "metadata": {},
   "outputs": [
    {
     "name": "stdout",
     "output_type": "stream",
     "text": [
      "RMSE: 2420380363531.809\n"
     ]
    }
   ],
   "source": [
    "poly=PolynomialFeatures(2, include_bias=False)\n",
    "poly_df=poly.fit_transform(train)\n",
    "scaled_poly_df=scaler.fit_transform(poly_df) \n",
    "linear_regression_model = SGDRegressor(tol=.000001, eta0=.001, max_iter=20000)\n",
    "linear_regression_model.fit(scaled_poly_df, train['SalePrice'])\n",
    "predictions = linear_regression_model.predict(scaled_poly_df)\n",
    "mse = mean_squared_error(train['SalePrice'], predictions)\n",
    "print(\"RMSE: {}\".format(np.sqrt(mse)))"
   ]
  },
  {
   "cell_type": "markdown",
   "metadata": {},
   "source": [
    "Transforming SalePrice to the natural log of sales price greatly decreased the Root Mean Squared Error of the Linear Regression Model, but didn't make too much of a difference in the Polynomial model. I'm going to move past the Polynomial Model because it doesn't seem to be doing a good job. Now I'm going to make sure I am not overfitting on my scaled dataset. \n",
    "\n"
   ]
  },
  {
   "cell_type": "code",
   "execution_count": 85,
   "metadata": {},
   "outputs": [
    {
     "name": "stdout",
     "output_type": "stream",
     "text": [
      "Train MSE: 0.004013731656886574\n",
      "Test MSE: 4.150466583975703\n"
     ]
    }
   ],
   "source": [
    "from sklearn.model_selection import train_test_split\n",
    "x_train, x_test, y_train, y_test = train_test_split(scaled_df, train['SalePrice'], test_size=0.3)\n",
    "linear_regression_2=SGDRegressor(tol=.0000001, eta0=.001, max_iter=20000)\n",
    "linear_regression_2.fit(x_train, y_train)\n",
    "train_predictions = linear_regression_2.predict(x_train)\n",
    "test_predictions = linear_regression_2.predict(x_test)\n",
    "\n",
    "train_mse = mean_squared_error(y_train, train_predictions)\n",
    "test_mse = mean_squared_error(y_test, test_predictions)\n",
    "\n",
    "print(\"Train MSE: {}\".format(train_mse))\n",
    "print(\"Test MSE: {}\".format(test_mse))"
   ]
  },
  {
   "cell_type": "markdown",
   "metadata": {},
   "source": [
    "That's definitley overfitting, but before moving on I'm going to make sure I'm using the best hyper-parameters. I'm going to use RandomizedSearch rather than GridSearch because they are both likely to provide me with similar estimate, but because RandomizedSearch runs faster, I can test more parameters. "
   ]
  },
  {
   "cell_type": "code",
   "execution_count": 86,
   "metadata": {},
   "outputs": [
    {
     "name": "stdout",
     "output_type": "stream",
     "text": [
      "Best Parameters: {'tol': 1e-06, 'max_iter': 100000, 'eta0': 0.001}\n",
      "Best Negative MSE: -6.698403930973501\n"
     ]
    }
   ],
   "source": [
    "from sklearn.model_selection import RandomizedSearchCV\n",
    "param_dis= {\"eta0\": [.0001, .001, .01, .1, 1], \n",
    "           \"tol\": [.01, .001, .0001, .00001, .000001],\n",
    "           \"max_iter\": [1500, 2000, 5000, 10000, 15000, 20000, 50000, 100000]}\n",
    "linear_regression_3=SGDRegressor()\n",
    "n_inter=10\n",
    "random_search=RandomizedSearchCV(linear_regression_3, param_distributions=param_dis, n_iter=n_inter, cv=4, scoring='neg_mean_squared_error')\n",
    "\n",
    "random_search.fit(x_train, y_train)\n",
    "print(\"Best Parameters: {}\".format(random_search.best_params_))\n",
    "print(\"Best Negative MSE: {}\".format(random_search.best_score_))"
   ]
  },
  {
   "cell_type": "code",
   "execution_count": 87,
   "metadata": {},
   "outputs": [
    {
     "name": "stdout",
     "output_type": "stream",
     "text": [
      "Train MSE: 0.0040368892465590086\n",
      "Test MSE: 4.575156688527544\n"
     ]
    }
   ],
   "source": [
    "x_train, x_test, y_train, y_test=train_test_split(scaled_df, train['SalePrice'], test_size=.3)\n",
    "linear_regression_4=SGDRegressor(tol=.000001, eta0=.001, max_iter=100000)\n",
    "linear_regression_4.fit(x_train, y_train)\n",
    "train_predictions = linear_regression_4.predict(x_train)\n",
    "test_predictions = linear_regression_4.predict(x_test)\n",
    "\n",
    "train_mse = mean_squared_error(y_train, train_predictions)\n",
    "test_mse = mean_squared_error(y_test, test_predictions)\n",
    "\n",
    "print(\"Train MSE: {}\".format(train_mse))\n",
    "print(\"Test MSE: {}\".format(test_mse))"
   ]
  },
  {
   "cell_type": "markdown",
   "metadata": {},
   "source": [
    "While using the best hyper parameters decreased the MSE of my training data, it's still much smaller than the MSE of my test subset. So it is obvious that even with optimal hyper parameters, I'm still overfitting my data. I'm going to say that the Linear Regression isn't the best way to go and move on to additional models. \n"
   ]
  },
  {
   "cell_type": "markdown",
   "metadata": {},
   "source": [
    "### K-Nearest Neighbors\n"
   ]
  },
  {
   "cell_type": "code",
   "execution_count": 88,
   "metadata": {},
   "outputs": [],
   "source": [
    "from sklearn.neighbors import KNeighborsClassifier, KNeighborsRegressor\n",
    "from sklearn.model_selection import GridSearchCV\n",
    "from sklearn.metrics import mean_squared_error"
   ]
  },
  {
   "cell_type": "markdown",
   "metadata": {},
   "source": [
    "The following code uses the KNeighborsRegressor and RandomziedSearchCV to find the optimal number of neighbors and metric for measuring distance to get the best estimates. It then uses those parameters to provide a model for the nearest neighbors approach."
   ]
  },
  {
   "cell_type": "code",
   "execution_count": 89,
   "metadata": {},
   "outputs": [
    {
     "name": "stderr",
     "output_type": "stream",
     "text": [
      "C:\\Users\\owner\\Anaconda3\\lib\\site-packages\\sklearn\\model_selection\\_split.py:2053: FutureWarning: You should specify a value for 'cv' instead of relying on the default value. The default value will change from 3 to 5 in version 0.22.\n",
      "  warnings.warn(CV_WARNING, FutureWarning)\n"
     ]
    },
    {
     "name": "stdout",
     "output_type": "stream",
     "text": [
      "Best Params: {'weights': 'uniform', 'p': 1, 'n_neighbors': 10}\n",
      "Train MSE: 0.030144082816714244\tTest MSE: 0.022568943413319224\n"
     ]
    }
   ],
   "source": [
    "reg=KNeighborsRegressor()\n",
    "randomsearch=RandomizedSearchCV(reg, {\"n_neighbors\": [1, 2, 5, 10, 15], \"weights\": ['uniform', 'distance'], \n",
    "                                 'p': [1, 2, 3]}, scoring='neg_mean_squared_error')\n",
    "randomsearch.fit(x_train, y_train)\n",
    "print(\"Best Params: {}\".format(randomsearch.best_params_))\n",
    "y_pred_train = randomsearch.predict(x_train)\n",
    "y_pred_test = randomsearch.predict(x_test)\n",
    "print(\"Train MSE: {}\\tTest MSE: {}\".format(mean_squared_error(y_train, y_pred_train),mean_squared_error(y_test, y_pred_test)))\n"
   ]
  },
  {
   "cell_type": "markdown",
   "metadata": {},
   "source": [
    "That looks pretty good actually. It looks like using the 10 nearest neighbors, euclidean distance, and distance weights results in a low MSE that isn't overfitting. I know I'm using a lot of dimensions because I haven't simplified the dataset other than to remove \"ID\" from the variables. However, I'm not too concerned about the Curse of Dimensionality because my Mean Squared Errors are small and I have a decent number of observations."
   ]
  },
  {
   "cell_type": "markdown",
   "metadata": {},
   "source": [
    "### Lasso"
   ]
  },
  {
   "cell_type": "markdown",
   "metadata": {},
   "source": [
    "My Linear Regression Model grossly overfit the data. I'm going to try and remedy that overfitting by simplifying my the relationships in my dataset with Lasso and L1 Regularization, summing the absolute values of coefficients and their cost function. First I am going to run the model to make sure the MSE isn't rediculous, then I'm going to make sure the model isn't overfitting. Once I am sure the model isn't completley broken and isn't overfitting, I will search for and apply the optimal hyper parameters."
   ]
  },
  {
   "cell_type": "code",
   "execution_count": 90,
   "metadata": {},
   "outputs": [],
   "source": [
    "from sklearn.linear_model import  Lasso"
   ]
  },
  {
   "cell_type": "markdown",
   "metadata": {},
   "source": [
    "The following code uses the scaled dataframe and to fit and predit the SalePrice of homes. The Mean Squared Errors for the prediction are reported below."
   ]
  },
  {
   "cell_type": "code",
   "execution_count": 91,
   "metadata": {},
   "outputs": [
    {
     "name": "stdout",
     "output_type": "stream",
     "text": [
      "RMSE: 0.3995757283645756\n"
     ]
    }
   ],
   "source": [
    "lasso_model=Lasso()\n",
    "lasso_model.fit(scaled_df, train['SalePrice']) \n",
    "prediction=lasso_model.predict(scaled_df)\n",
    "mse=mean_squared_error(train['SalePrice'], prediction)\n",
    "print(\"RMSE: {}\".format(np.sqrt(mse)))"
   ]
  },
  {
   "cell_type": "code",
   "execution_count": 92,
   "metadata": {
    "scrolled": true
   },
   "outputs": [
    {
     "name": "stdout",
     "output_type": "stream",
     "text": [
      "Train MSE: 0.1609089972734692\n",
      "Test MSE: 0.15675512814707962\n"
     ]
    }
   ],
   "source": [
    "x_train, x_test, y_train, y_test=train_test_split(scaled_df, train['SalePrice'], test_size=.3)\n",
    "lasso_model=Lasso()\n",
    "lasso_model.fit(x_train, y_train)\n",
    "train_predictions = lasso_model.predict(x_train)\n",
    "test_predictions = lasso_model.predict(x_test)\n",
    "\n",
    "train_mse = mean_squared_error(y_train, train_predictions)\n",
    "test_mse = mean_squared_error(y_test, test_predictions)\n",
    "\n",
    "print(\"Train MSE: {}\".format(train_mse))\n",
    "print(\"Test MSE: {}\".format(test_mse))"
   ]
  },
  {
   "cell_type": "code",
   "execution_count": 93,
   "metadata": {},
   "outputs": [
    {
     "name": "stdout",
     "output_type": "stream",
     "text": [
      "Best Parameters: {'tol': 0.01, 'max_iter': 10000, 'alpha': 0.1}\n",
      "Best Negative MSE: -0.02587897182696393\n"
     ]
    }
   ],
   "source": [
    "from sklearn.model_selection import RandomizedSearchCV\n",
    "param_dis= {\"tol\": [.01, .001, .0001, .00001], \"alpha\": [.1, .25, .5, .75, .9], \"max_iter\": [1500, 2000, 3000, 5000, 10000, 20000]}\n",
    "lasso_model=Lasso()\n",
    "n_inter=10\n",
    "random_search_lasso=RandomizedSearchCV(lasso_model, param_distributions=param_dis, n_iter=n_inter, cv=4, scoring='neg_mean_squared_error')\n",
    "\n",
    "random_search_lasso.fit(x_train, y_train)\n",
    "print(\"Best Parameters: {}\".format(random_search_lasso.best_params_))\n",
    "print(\"Best Negative MSE: {}\".format(random_search_lasso.best_score_))"
   ]
  },
  {
   "cell_type": "code",
   "execution_count": 94,
   "metadata": {},
   "outputs": [
    {
     "name": "stdout",
     "output_type": "stream",
     "text": [
      "Train MSE: 0.02469042070455541\n",
      "Test MSE: 0.026543840273677118\n"
     ]
    }
   ],
   "source": [
    "x_train, x_test, y_train, y_test=train_test_split(scaled_df, train['SalePrice'], test_size=.3)\n",
    "lasso_model=Lasso(tol=0.01, alpha=0.1, max_iter=10000)\n",
    "lasso_model.fit(x_train, y_train)\n",
    "train_predictions = lasso_model.predict(x_train)\n",
    "test_predictions = lasso_model.predict(x_test)\n",
    "\n",
    "train_mse = mean_squared_error(y_train, train_predictions)\n",
    "test_mse = mean_squared_error(y_test, test_predictions)\n",
    "\n",
    "print(\"Train MSE: {}\".format(train_mse))\n",
    "print(\"Test MSE: {}\".format(test_mse))"
   ]
  },
  {
   "cell_type": "markdown",
   "metadata": {},
   "source": [
    "The Lasso Model with optimal hyper parameters and a scaled dataframe does a really good job at giving small and consistant MSEs, so I'm not as worried about overfitting or biased estimates."
   ]
  },
  {
   "cell_type": "markdown",
   "metadata": {},
   "source": [
    "### Ridge "
   ]
  },
  {
   "cell_type": "markdown",
   "metadata": {},
   "source": [
    "The Ridge model will be similar to the Lasso Model, but use L2 Regularization instead, which utilized the sum of squared values to the cost function, not the absolute. Because Regularization is correcting varience at the cost of increasing bias, it's important to test multiple types of regularization. Like Lasso, I will run it to make sure my RMSE is a decent size, check for overfitting, get the best hyperparameters with RandomizedSearch, and use them for a final model."
   ]
  },
  {
   "cell_type": "code",
   "execution_count": 95,
   "metadata": {},
   "outputs": [],
   "source": [
    "from sklearn.linear_model import Ridge"
   ]
  },
  {
   "cell_type": "code",
   "execution_count": 96,
   "metadata": {},
   "outputs": [
    {
     "name": "stdout",
     "output_type": "stream",
     "text": [
      "RMSE: 0.06258301509999727\n"
     ]
    }
   ],
   "source": [
    "ridge_model=Ridge()\n",
    "ridge_model.fit(scaled_df, train['SalePrice']) \n",
    "prediction=ridge_model.predict(scaled_df)\n",
    "mse=mean_squared_error(train['SalePrice'], prediction)\n",
    "print(\"RMSE: {}\".format(np.sqrt(mse)))"
   ]
  },
  {
   "cell_type": "code",
   "execution_count": 97,
   "metadata": {},
   "outputs": [
    {
     "name": "stdout",
     "output_type": "stream",
     "text": [
      "Train MSE: 0.003851024118191959\n",
      "Test MSE: 0.008114507603947281\n"
     ]
    }
   ],
   "source": [
    "x_train, x_test, y_train, y_test=train_test_split(scaled_df, train['SalePrice'], test_size=.3)\n",
    "ridge_model.fit(x_train, y_train)\n",
    "train_predictions = ridge_model.predict(x_train)\n",
    "test_predictions = ridge_model.predict(x_test)\n",
    "\n",
    "train_mse = mean_squared_error(y_train, train_predictions)\n",
    "test_mse = mean_squared_error(y_test, test_predictions)\n",
    "\n",
    "print(\"Train MSE: {}\".format(train_mse))\n",
    "print(\"Test MSE: {}\".format(test_mse))"
   ]
  },
  {
   "cell_type": "code",
   "execution_count": 98,
   "metadata": {},
   "outputs": [
    {
     "name": "stdout",
     "output_type": "stream",
     "text": [
      "Best Parameters: {'tol': 0.001, 'max_iter': 1500, 'alpha': 0.9}\n",
      "Best Negative MSE: -0.012069288294024389\n"
     ]
    }
   ],
   "source": [
    "from sklearn.model_selection import RandomizedSearchCV\n",
    "param_dis= {\"tol\": [.01, .001, .0001, .00001], \"alpha\": [.1, .25, .5, .75, .9], \"max_iter\": [1500, 2000, 5000, 10000, 20000]}\n",
    "ridge_model=Ridge()\n",
    "n_inter=10\n",
    "random_search_ridge=RandomizedSearchCV(ridge_model, param_distributions=param_dis, n_iter=n_inter, cv=4, scoring='neg_mean_squared_error')\n",
    "\n",
    "random_search_ridge.fit(x_train, y_train)\n",
    "print(\"Best Parameters: {}\".format(random_search_ridge.best_params_))\n",
    "print(\"Best Negative MSE: {}\".format(random_search_ridge.best_score_))"
   ]
  },
  {
   "cell_type": "code",
   "execution_count": 99,
   "metadata": {},
   "outputs": [
    {
     "name": "stdout",
     "output_type": "stream",
     "text": [
      "Train MSE: 0.0038505628660544153\n",
      "Test MSE: 0.00814307871284646\n"
     ]
    }
   ],
   "source": [
    "ridge_model=Ridge(tol=0.001, alpha=0.9, max_iter=15000)\n",
    "ridge_model.fit(x_train, y_train)\n",
    "train_predictions = ridge_model.predict(x_train)\n",
    "test_predictions = ridge_model.predict(x_test)\n",
    "\n",
    "train_mse = mean_squared_error(y_train, train_predictions)\n",
    "test_mse = mean_squared_error(y_test, test_predictions)\n",
    "\n",
    "print(\"Train MSE: {}\".format(train_mse))\n",
    "print(\"Test MSE: {}\".format(test_mse))"
   ]
  },
  {
   "cell_type": "markdown",
   "metadata": {},
   "source": [
    "It looks like the Ridge Model is also doing a good producing small Mean Squared Errors for both the train and test data set."
   ]
  },
  {
   "cell_type": "markdown",
   "metadata": {},
   "source": [
    "### Elastic Net \n"
   ]
  },
  {
   "cell_type": "code",
   "execution_count": 100,
   "metadata": {},
   "outputs": [
    {
     "name": "stdout",
     "output_type": "stream",
     "text": [
      "RMSE: 0.3995757283645756\n"
     ]
    }
   ],
   "source": [
    "from sklearn.linear_model import ElasticNet\n",
    "enet_model=ElasticNet()\n",
    "enet_model.fit(scaled_df, train['SalePrice']) \n",
    "prediction=enet_model.predict(scaled_df)\n",
    "mse=mean_squared_error(train['SalePrice'], prediction)\n",
    "print(\"RMSE: {}\".format(np.sqrt(mse)))"
   ]
  },
  {
   "cell_type": "code",
   "execution_count": 101,
   "metadata": {},
   "outputs": [
    {
     "name": "stdout",
     "output_type": "stream",
     "text": [
      "Train MSE: 0.16307630162817086\n",
      "Test MSE: 0.15171735180144566\n"
     ]
    }
   ],
   "source": [
    "x_train, x_test, y_train, y_test=train_test_split(scaled_df, train['SalePrice'], test_size=.3)\n",
    "enet_model.fit(x_train, y_train)\n",
    "train_predictions = enet_model.predict(x_train)\n",
    "test_predictions = enet_model.predict(x_test)\n",
    "\n",
    "train_mse = mean_squared_error(y_train, train_predictions)\n",
    "test_mse = mean_squared_error(y_test, test_predictions)\n",
    "\n",
    "print(\"Train MSE: {}\".format(train_mse))\n",
    "print(\"Test MSE: {}\".format(test_mse))"
   ]
  },
  {
   "cell_type": "code",
   "execution_count": 102,
   "metadata": {},
   "outputs": [
    {
     "name": "stdout",
     "output_type": "stream",
     "text": [
      "Best Parameters: {'tol': 0.0001, 'max_iter': 5000, 'l1_ratio': 0.1, 'alpha': 0.25}\n",
      "Best Negative MSE: -0.013140663640256943\n"
     ]
    }
   ],
   "source": [
    "param_dis= {\"tol\": [.01, .001, .0001, .00001], \"alpha\": [.1, .25, .5, .75, .9], \"max_iter\": [1500, 2000, 5000, 10000, 20000], \"l1_ratio\": [.1, .25, .5, .75, .9]}\n",
    "enet_model=ElasticNet()\n",
    "n_inter=10\n",
    "random_search_enet=RandomizedSearchCV(enet_model, param_distributions=param_dis, n_iter=n_inter, cv=4, scoring='neg_mean_squared_error')\n",
    "\n",
    "random_search_enet.fit(x_train, y_train)\n",
    "print(\"Best Parameters: {}\".format(random_search_enet.best_params_))\n",
    "print(\"Best Negative MSE: {}\".format(random_search_enet.best_score_))"
   ]
  },
  {
   "cell_type": "code",
   "execution_count": 103,
   "metadata": {},
   "outputs": [
    {
     "name": "stdout",
     "output_type": "stream",
     "text": [
      "Train MSE: 0.012515299776894\n",
      "Test MSE: 0.012648226542032202\n"
     ]
    }
   ],
   "source": [
    "x_train, x_test, y_train, y_test=train_test_split(scaled_df, train['SalePrice'], test_size=.3)\n",
    "enet_model=ElasticNet(tol=0.0001, alpha=0.25, max_iter=5000, l1_ratio=.1)\n",
    "enet_model.fit(x_train, y_train)\n",
    "train_predictions = enet_model.predict(x_train)\n",
    "test_predictions = enet_model.predict(x_test)\n",
    "\n",
    "train_mse = mean_squared_error(y_train, train_predictions)\n",
    "test_mse = mean_squared_error(y_test, test_predictions)\n",
    "\n",
    "print(\"Train MSE: {}\".format(train_mse))\n",
    "print(\"Test MSE: {}\".format(test_mse))"
   ]
  },
  {
   "cell_type": "markdown",
   "metadata": {},
   "source": [
    "Elastic Net is a hybread of Lasso and Ridge, with the variable \"l1_ratio\" indicating what percent of the model is coming form Lasso, (and by extencion, 1-l1_ratio indicates how much is coming from Ridge). Elastic net gvies pretty small and consistant mean squared errors, with optimally setting the l1_ratio to .1. Althought the MSEs aren't quite as small as those achieved with Ridge, the MSE of the train is far closer to that of the test. This looks like it is going to be my best model going forward, but I'll run some prediction on a few others to see what happens. "
   ]
  },
  {
   "cell_type": "markdown",
   "metadata": {},
   "source": [
    "# Test\n"
   ]
  },
  {
   "cell_type": "markdown",
   "metadata": {},
   "source": [
    "Now that I have decent models, I want use them to predict my test data. I'm going to scale my test data and run the model on it to predict the natural log of housing prices. I'm just going to see how my models do on Ridge and Elastic Net, because those gave the best estimates on my training data. I'll also do a K Nearest Neighbors just to get at the estimations in a different and novel way. "
   ]
  },
  {
   "cell_type": "markdown",
   "metadata": {},
   "source": [
    "#### Ridge"
   ]
  },
  {
   "cell_type": "code",
   "execution_count": 104,
   "metadata": {},
   "outputs": [],
   "source": [
    "ridge_model=Ridge(tol=0.001, alpha=0.9, max_iter=15000)\n",
    "ridge_model.fit(scaled_df, train['SalePrice']) \n",
    "prediction_ridge=ridge_model.predict(scaled_df_test)"
   ]
  },
  {
   "cell_type": "code",
   "execution_count": 105,
   "metadata": {},
   "outputs": [
    {
     "data": {
      "text/plain": [
       "array([145108.14556685, 155407.62685747, 190124.58691441, ...,\n",
       "       174893.2196438 , 105500.28477263, 187247.91057042])"
      ]
     },
     "execution_count": 105,
     "metadata": {},
     "output_type": "execute_result"
    }
   ],
   "source": [
    "prediction_ridge=np.exp(prediction_ridge)\n",
    "prediction_ridge"
   ]
  },
  {
   "cell_type": "code",
   "execution_count": 106,
   "metadata": {},
   "outputs": [],
   "source": [
    "test_temp=pd.read_csv(r\"C:\\Users\\owner\\Documents\\Junior\\S2\\Machine_Learning\\HW2\\test.csv\")\n",
    "sub=pd.DataFrame()\n",
    "sub['ID']=test_temp['Id']\n",
    "sub['SalePrice']=prediction_ridge"
   ]
  },
  {
   "cell_type": "code",
   "execution_count": 107,
   "metadata": {},
   "outputs": [
    {
     "data": {
      "text/html": [
       "<div>\n",
       "<style scoped>\n",
       "    .dataframe tbody tr th:only-of-type {\n",
       "        vertical-align: middle;\n",
       "    }\n",
       "\n",
       "    .dataframe tbody tr th {\n",
       "        vertical-align: top;\n",
       "    }\n",
       "\n",
       "    .dataframe thead th {\n",
       "        text-align: right;\n",
       "    }\n",
       "</style>\n",
       "<table border=\"1\" class=\"dataframe\">\n",
       "  <thead>\n",
       "    <tr style=\"text-align: right;\">\n",
       "      <th></th>\n",
       "      <th>ID</th>\n",
       "      <th>SalePrice</th>\n",
       "    </tr>\n",
       "  </thead>\n",
       "  <tbody>\n",
       "    <tr>\n",
       "      <th>0</th>\n",
       "      <td>1461</td>\n",
       "      <td>145108.145567</td>\n",
       "    </tr>\n",
       "    <tr>\n",
       "      <th>1</th>\n",
       "      <td>1462</td>\n",
       "      <td>155407.626857</td>\n",
       "    </tr>\n",
       "    <tr>\n",
       "      <th>2</th>\n",
       "      <td>1463</td>\n",
       "      <td>190124.586914</td>\n",
       "    </tr>\n",
       "    <tr>\n",
       "      <th>3</th>\n",
       "      <td>1464</td>\n",
       "      <td>170866.471055</td>\n",
       "    </tr>\n",
       "    <tr>\n",
       "      <th>4</th>\n",
       "      <td>1465</td>\n",
       "      <td>192960.056212</td>\n",
       "    </tr>\n",
       "  </tbody>\n",
       "</table>\n",
       "</div>"
      ],
      "text/plain": [
       "     ID      SalePrice\n",
       "0  1461  145108.145567\n",
       "1  1462  155407.626857\n",
       "2  1463  190124.586914\n",
       "3  1464  170866.471055\n",
       "4  1465  192960.056212"
      ]
     },
     "execution_count": 107,
     "metadata": {},
     "output_type": "execute_result"
    }
   ],
   "source": [
    "sub.head()"
   ]
  },
  {
   "cell_type": "code",
   "execution_count": 108,
   "metadata": {},
   "outputs": [],
   "source": [
    "sub.to_csv(\"sub5_ridge.csv\")"
   ]
  },
  {
   "cell_type": "markdown",
   "metadata": {},
   "source": [
    "#### Nearest Neighbors"
   ]
  },
  {
   "cell_type": "code",
   "execution_count": 109,
   "metadata": {},
   "outputs": [],
   "source": [
    "neighbors_model=KNeighborsRegressor(n_neighbors=10, p=1)\n",
    "neighbors_model.fit(scaled_df, train['SalePrice']) \n",
    "prediction_neighbors=neighbors_model.predict(scaled_df_test)"
   ]
  },
  {
   "cell_type": "code",
   "execution_count": 110,
   "metadata": {},
   "outputs": [
    {
     "data": {
      "text/plain": [
       "array([191385.81852102, 175520.55648039, 186099.03154598, ...,\n",
       "       185847.48412949, 160435.13155782, 206773.06139636])"
      ]
     },
     "execution_count": 110,
     "metadata": {},
     "output_type": "execute_result"
    }
   ],
   "source": [
    "prediction_neighbors=np.exp(prediction_neighbors)\n",
    "prediction_neighbors"
   ]
  },
  {
   "cell_type": "code",
   "execution_count": 111,
   "metadata": {},
   "outputs": [],
   "source": [
    "sub2=pd.DataFrame()\n",
    "sub2['ID']=test_temp['Id']\n",
    "sub2['SalePrice']=prediction_neighbors"
   ]
  },
  {
   "cell_type": "code",
   "execution_count": 112,
   "metadata": {},
   "outputs": [
    {
     "data": {
      "text/html": [
       "<div>\n",
       "<style scoped>\n",
       "    .dataframe tbody tr th:only-of-type {\n",
       "        vertical-align: middle;\n",
       "    }\n",
       "\n",
       "    .dataframe tbody tr th {\n",
       "        vertical-align: top;\n",
       "    }\n",
       "\n",
       "    .dataframe thead th {\n",
       "        text-align: right;\n",
       "    }\n",
       "</style>\n",
       "<table border=\"1\" class=\"dataframe\">\n",
       "  <thead>\n",
       "    <tr style=\"text-align: right;\">\n",
       "      <th></th>\n",
       "      <th>ID</th>\n",
       "      <th>SalePrice</th>\n",
       "    </tr>\n",
       "  </thead>\n",
       "  <tbody>\n",
       "    <tr>\n",
       "      <th>0</th>\n",
       "      <td>1461</td>\n",
       "      <td>191385.818521</td>\n",
       "    </tr>\n",
       "    <tr>\n",
       "      <th>1</th>\n",
       "      <td>1462</td>\n",
       "      <td>175520.556480</td>\n",
       "    </tr>\n",
       "    <tr>\n",
       "      <th>2</th>\n",
       "      <td>1463</td>\n",
       "      <td>186099.031546</td>\n",
       "    </tr>\n",
       "    <tr>\n",
       "      <th>3</th>\n",
       "      <td>1464</td>\n",
       "      <td>196247.235111</td>\n",
       "    </tr>\n",
       "    <tr>\n",
       "      <th>4</th>\n",
       "      <td>1465</td>\n",
       "      <td>180645.912034</td>\n",
       "    </tr>\n",
       "  </tbody>\n",
       "</table>\n",
       "</div>"
      ],
      "text/plain": [
       "     ID      SalePrice\n",
       "0  1461  191385.818521\n",
       "1  1462  175520.556480\n",
       "2  1463  186099.031546\n",
       "3  1464  196247.235111\n",
       "4  1465  180645.912034"
      ]
     },
     "execution_count": 112,
     "metadata": {},
     "output_type": "execute_result"
    }
   ],
   "source": [
    "sub2.head()"
   ]
  },
  {
   "cell_type": "code",
   "execution_count": 113,
   "metadata": {},
   "outputs": [],
   "source": [
    "sub2.to_csv(\"sub2_neighbors.csv\")"
   ]
  },
  {
   "cell_type": "markdown",
   "metadata": {},
   "source": [
    "#### Elastic Net"
   ]
  },
  {
   "cell_type": "code",
   "execution_count": 114,
   "metadata": {},
   "outputs": [],
   "source": [
    "enet_model=ElasticNet(tol=0.0001, alpha=0.25, max_iter=5000, l1_ratio=.1)\n",
    "enet_model.fit(scaled_df, train['SalePrice']) \n",
    "prediction_enet=enet_model.predict(scaled_df_test)"
   ]
  },
  {
   "cell_type": "code",
   "execution_count": 115,
   "metadata": {},
   "outputs": [
    {
     "data": {
      "text/plain": [
       "array([165229.7670231 , 187045.59950274, 170784.76276664, ...,\n",
       "       172873.8649689 , 133047.06495862, 184895.90037495])"
      ]
     },
     "execution_count": 115,
     "metadata": {},
     "output_type": "execute_result"
    }
   ],
   "source": [
    "prediction_enet=np.exp(prediction_enet)\n",
    "prediction_enet"
   ]
  },
  {
   "cell_type": "code",
   "execution_count": 116,
   "metadata": {},
   "outputs": [],
   "source": [
    "sub3=pd.DataFrame()\n",
    "sub3['ID']=test_temp['Id']\n",
    "sub3['SalePrice']=prediction_enet"
   ]
  },
  {
   "cell_type": "code",
   "execution_count": 117,
   "metadata": {},
   "outputs": [
    {
     "data": {
      "text/html": [
       "<div>\n",
       "<style scoped>\n",
       "    .dataframe tbody tr th:only-of-type {\n",
       "        vertical-align: middle;\n",
       "    }\n",
       "\n",
       "    .dataframe tbody tr th {\n",
       "        vertical-align: top;\n",
       "    }\n",
       "\n",
       "    .dataframe thead th {\n",
       "        text-align: right;\n",
       "    }\n",
       "</style>\n",
       "<table border=\"1\" class=\"dataframe\">\n",
       "  <thead>\n",
       "    <tr style=\"text-align: right;\">\n",
       "      <th></th>\n",
       "      <th>ID</th>\n",
       "      <th>SalePrice</th>\n",
       "    </tr>\n",
       "  </thead>\n",
       "  <tbody>\n",
       "    <tr>\n",
       "      <th>0</th>\n",
       "      <td>1461</td>\n",
       "      <td>165229.767023</td>\n",
       "    </tr>\n",
       "    <tr>\n",
       "      <th>1</th>\n",
       "      <td>1462</td>\n",
       "      <td>187045.599503</td>\n",
       "    </tr>\n",
       "    <tr>\n",
       "      <th>2</th>\n",
       "      <td>1463</td>\n",
       "      <td>170784.762767</td>\n",
       "    </tr>\n",
       "    <tr>\n",
       "      <th>3</th>\n",
       "      <td>1464</td>\n",
       "      <td>171256.198093</td>\n",
       "    </tr>\n",
       "    <tr>\n",
       "      <th>4</th>\n",
       "      <td>1465</td>\n",
       "      <td>168731.117987</td>\n",
       "    </tr>\n",
       "  </tbody>\n",
       "</table>\n",
       "</div>"
      ],
      "text/plain": [
       "     ID      SalePrice\n",
       "0  1461  165229.767023\n",
       "1  1462  187045.599503\n",
       "2  1463  170784.762767\n",
       "3  1464  171256.198093\n",
       "4  1465  168731.117987"
      ]
     },
     "execution_count": 117,
     "metadata": {},
     "output_type": "execute_result"
    }
   ],
   "source": [
    "sub3.head()"
   ]
  },
  {
   "cell_type": "code",
   "execution_count": 118,
   "metadata": {},
   "outputs": [],
   "source": [
    "sub.to_csv(\"sub4_enet.csv\")"
   ]
  },
  {
   "cell_type": "code",
   "execution_count": 122,
   "metadata": {},
   "outputs": [
    {
     "data": {
      "text/plain": [
       "[('SalePrice', 0.13769288717489597),\n",
       " ('OverallQual', 0.05565407176769706),\n",
       " ('total_sqrft', 0.04745816137513756),\n",
       " ('GrLivArea', 0.032400292482487034),\n",
       " ('YearRemodAdd', 0.022968364572098825),\n",
       " ('GarageCars', 0.01992200994424836),\n",
       " ('YearBuilt', 0.015312109887199778),\n",
       " ('GarageArea', 0.01467853701174797),\n",
       " ('MSZoning_RM', -0.010563627308649449),\n",
       " ('FireplaceQu_0', -0.008758562568857684),\n",
       " ('MSZoning_C (all)', -0.008392640803374074),\n",
       " ('BsmtFinSF1', 0.008265641505621412),\n",
       " ('Fireplaces', 0.007955168735590603),\n",
       " ('CentralAir_Y', 0.007655095445555565),\n",
       " ('CentralAir_N', -0.007652699016501564),\n",
       " ('TotalBsmtSF', 0.007586678159009573),\n",
       " ('MSSubClass_30', -0.006832286734245465),\n",
       " ('GarageType_Attchd', 0.0049901784958094044),\n",
       " ('KitchenQual_TA', -0.004749374579815901),\n",
       " ('HeatingQC_Ex', 0.003988699978500682),\n",
       " ('GarageCond_TA', 0.003223411746563552),\n",
       " ('FullBath', 0.0031028326106634168),\n",
       " ('Foundation_PConc', 0.001926057607720587),\n",
       " ('MSZoning_RL', 0.0011706608077774801),\n",
       " ('ExterQual_Gd', 0.0007623218093999142),\n",
       " ('1stFlrSF', 0.00029939753346421705),\n",
       " ('LotFrontage', 0.0),\n",
       " ('LotArea', 0.0),\n",
       " ('OverallCond', 0.0),\n",
       " ('MasVnrArea', 0.0),\n",
       " ('BsmtFinSF2', 0.0),\n",
       " ('BsmtUnfSF', -0.0),\n",
       " ('2ndFlrSF', 0.0),\n",
       " ('LowQualFinSF', -0.0),\n",
       " ('BsmtFullBath', 0.0),\n",
       " ('BsmtHalfBath', 0.0),\n",
       " ('HalfBath', 0.0),\n",
       " ('BedroomAbvGr', 0.0),\n",
       " ('KitchenAbvGr', -0.0),\n",
       " ('TotRmsAbvGrd', 0.0),\n",
       " ('GarageYrBlt', 0.0),\n",
       " ('WoodDeckSF', 0.0),\n",
       " ('OpenPorchSF', 0.0),\n",
       " ('EnclosedPorch', -0.0),\n",
       " ('3SsnPorch', 0.0),\n",
       " ('ScreenPorch', 0.0),\n",
       " ('PoolArea', 0.0),\n",
       " ('MiscVal', -0.0),\n",
       " ('MoSold', 0.0),\n",
       " ('YrSold', -0.0),\n",
       " ('MSSubClass_120', 0.0),\n",
       " ('MSSubClass_160', -0.0),\n",
       " ('MSSubClass_180', -0.0),\n",
       " ('MSSubClass_190', -0.0),\n",
       " ('MSSubClass_20', 0.0),\n",
       " ('MSSubClass_40', -0.0),\n",
       " ('MSSubClass_45', -0.0),\n",
       " ('MSSubClass_50', -0.0),\n",
       " ('MSSubClass_60', 0.0),\n",
       " ('MSSubClass_70', 0.0),\n",
       " ('MSSubClass_75', 0.0),\n",
       " ('MSSubClass_80', 0.0),\n",
       " ('MSSubClass_85', 0.0),\n",
       " ('MSSubClass_90', -0.0),\n",
       " ('MSZoning_FV', 0.0),\n",
       " ('MSZoning_RH', -0.0),\n",
       " ('Street_Grvl', -0.0),\n",
       " ('Street_Pave', 0.0),\n",
       " ('Alley_0', 0.0),\n",
       " ('Alley_Grvl', -0.0),\n",
       " ('Alley_Pave', 0.0),\n",
       " ('LotShape_IR1', 0.0),\n",
       " ('LotShape_IR2', 0.0),\n",
       " ('LotShape_IR3', 0.0),\n",
       " ('LotShape_Reg', -0.0),\n",
       " ('LandContour_Bnk', -0.0),\n",
       " ('LandContour_HLS', 0.0),\n",
       " ('LandContour_Low', 0.0),\n",
       " ('LandContour_Lvl', -0.0),\n",
       " ('Utilities_AllPub', 0.0),\n",
       " ('Utilities_NoSeWa', -0.0),\n",
       " ('LotConfig_Corner', 0.0),\n",
       " ('LotConfig_CulDSac', 0.0),\n",
       " ('LotConfig_FR2', -0.0),\n",
       " ('LotConfig_FR3', 0.0),\n",
       " ('LotConfig_Inside', -0.0),\n",
       " ('LandSlope_Gtl', -0.0),\n",
       " ('LandSlope_Mod', 0.0),\n",
       " ('LandSlope_Sev', 0.0),\n",
       " ('Neighborhood_Blmngtn', -0.0),\n",
       " ('Neighborhood_Blueste', -0.0),\n",
       " ('Neighborhood_BrDale', -0.0),\n",
       " ('Neighborhood_BrkSide', -0.0),\n",
       " ('Neighborhood_ClearCr', 0.0),\n",
       " ('Neighborhood_CollgCr', 0.0),\n",
       " ('Neighborhood_Crawfor', 0.0),\n",
       " ('Neighborhood_Edwards', -0.0),\n",
       " ('Neighborhood_Gilbert', 0.0),\n",
       " ('Neighborhood_IDOTRR', -0.0),\n",
       " ('Neighborhood_MeadowV', -0.0),\n",
       " ('Neighborhood_Mitchel', -0.0),\n",
       " ('Neighborhood_NAmes', -0.0),\n",
       " ('Neighborhood_NPkVill', -0.0),\n",
       " ('Neighborhood_NWAmes', 0.0),\n",
       " ('Neighborhood_NoRidge', 0.0),\n",
       " ('Neighborhood_NridgHt', 0.0),\n",
       " ('Neighborhood_OldTown', -0.0),\n",
       " ('Neighborhood_SWISU', -0.0),\n",
       " ('Neighborhood_Sawyer', -0.0),\n",
       " ('Neighborhood_SawyerW', -0.0),\n",
       " ('Neighborhood_Somerst', 0.0),\n",
       " ('Neighborhood_StoneBr', 0.0),\n",
       " ('Neighborhood_Timber', 0.0),\n",
       " ('Neighborhood_Veenker', 0.0),\n",
       " ('Condition1_Artery', -0.0),\n",
       " ('Condition1_Feedr', -0.0),\n",
       " ('Condition1_Norm', 0.0),\n",
       " ('Condition1_PosA', 0.0),\n",
       " ('Condition1_PosN', 0.0),\n",
       " ('Condition1_RRAe', -0.0),\n",
       " ('Condition1_RRAn', 0.0),\n",
       " ('Condition1_RRNe', 0.0),\n",
       " ('Condition1_RRNn', 0.0),\n",
       " ('Condition2_Artery', -0.0),\n",
       " ('Condition2_Feedr', -0.0),\n",
       " ('Condition2_Norm', 0.0),\n",
       " ('Condition2_PosA', 0.0),\n",
       " ('Condition2_PosN', -0.0),\n",
       " ('Condition2_RRAe', -0.0),\n",
       " ('Condition2_RRAn', -0.0),\n",
       " ('Condition2_RRNn', -0.0),\n",
       " ('BldgType_1Fam', 0.0),\n",
       " ('BldgType_2fmCon', -0.0),\n",
       " ('BldgType_Duplex', -0.0),\n",
       " ('BldgType_Twnhs', -0.0),\n",
       " ('BldgType_TwnhsE', -0.0),\n",
       " ('HouseStyle_1.5Fin', -0.0),\n",
       " ('HouseStyle_1.5Unf', -0.0),\n",
       " ('HouseStyle_1Story', -0.0),\n",
       " ('HouseStyle_2.5Fin', 0.0),\n",
       " ('HouseStyle_2.5Unf', -0.0),\n",
       " ('HouseStyle_2Story', 0.0),\n",
       " ('HouseStyle_SFoyer', -0.0),\n",
       " ('HouseStyle_SLvl', 0.0),\n",
       " ('RoofStyle_Flat', 0.0),\n",
       " ('RoofStyle_Gable', -0.0),\n",
       " ('RoofStyle_Gambrel', -0.0),\n",
       " ('RoofStyle_Hip', 0.0),\n",
       " ('RoofStyle_Mansard', 0.0),\n",
       " ('RoofStyle_Shed', 0.0),\n",
       " ('RoofMatl_ClyTile', 0.0),\n",
       " ('RoofMatl_CompShg', -0.0),\n",
       " ('RoofMatl_Membran', 0.0),\n",
       " ('RoofMatl_Metal', 0.0),\n",
       " ('RoofMatl_Roll', -0.0),\n",
       " ('RoofMatl_Tar&Grv', 0.0),\n",
       " ('RoofMatl_WdShake', 0.0),\n",
       " ('RoofMatl_WdShngl', 0.0),\n",
       " ('Exterior1st_AsbShng', -0.0),\n",
       " ('Exterior1st_AsphShn', -0.0),\n",
       " ('Exterior1st_BrkComm', -0.0),\n",
       " ('Exterior1st_BrkFace', 0.0),\n",
       " ('Exterior1st_CBlock', -0.0),\n",
       " ('Exterior1st_CemntBd', -0.0),\n",
       " ('Exterior1st_HdBoard', -0.0),\n",
       " ('Exterior1st_ImStucc', 0.0),\n",
       " ('Exterior1st_MetalSd', -0.0),\n",
       " ('Exterior1st_Plywood', 0.0),\n",
       " ('Exterior1st_Stone', 0.0),\n",
       " ('Exterior1st_Stucco', -0.0),\n",
       " ('Exterior1st_VinylSd', 0.0),\n",
       " ('Exterior1st_Wd Sdng', -0.0),\n",
       " ('Exterior1st_WdShing', -0.0),\n",
       " ('Exterior2nd_AsbShng', -0.0),\n",
       " ('Exterior2nd_AsphShn', 0.0),\n",
       " ('Exterior2nd_Brk Cmn', -0.0),\n",
       " ('Exterior2nd_BrkFace', 0.0),\n",
       " ('Exterior2nd_CBlock', -0.0),\n",
       " ('Exterior2nd_CmentBd', -0.0),\n",
       " ('Exterior2nd_HdBoard', -0.0),\n",
       " ('Exterior2nd_ImStucc', -0.0),\n",
       " ('Exterior2nd_MetalSd', -0.0),\n",
       " ('Exterior2nd_Other', 0.0),\n",
       " ('Exterior2nd_Plywood', 0.0),\n",
       " ('Exterior2nd_Stone', 0.0),\n",
       " ('Exterior2nd_Stucco', -0.0),\n",
       " ('Exterior2nd_VinylSd', 0.0),\n",
       " ('Exterior2nd_Wd Sdng', -0.0),\n",
       " ('Exterior2nd_Wd Shng', -0.0),\n",
       " ('MasVnrType_0', 0.0),\n",
       " ('MasVnrType_BrkCmn', -0.0),\n",
       " ('MasVnrType_BrkFace', 0.0),\n",
       " ('MasVnrType_None', -0.0),\n",
       " ('MasVnrType_Stone', 0.0),\n",
       " ('ExterQual_Ex', 0.0),\n",
       " ('ExterQual_Fa', -0.0),\n",
       " ('ExterQual_TA', -0.0),\n",
       " ('ExterCond_Ex', 0.0),\n",
       " ('ExterCond_Fa', -0.0),\n",
       " ('ExterCond_Gd', 0.0),\n",
       " ('ExterCond_Po', -0.0),\n",
       " ('ExterCond_TA', 0.0),\n",
       " ('Foundation_BrkTil', -0.0),\n",
       " ('Foundation_CBlock', -0.0),\n",
       " ('Foundation_Slab', -0.0),\n",
       " ('Foundation_Stone', 0.0),\n",
       " ('Foundation_Wood', -0.0),\n",
       " ('BsmtQual_0', -0.0),\n",
       " ('BsmtQual_Ex', 0.0),\n",
       " ('BsmtQual_Fa', -0.0),\n",
       " ('BsmtQual_Gd', 0.0),\n",
       " ('BsmtQual_TA', -0.0),\n",
       " ('BsmtCond_0', -0.0),\n",
       " ('BsmtCond_Fa', -0.0),\n",
       " ('BsmtCond_Gd', 0.0),\n",
       " ('BsmtCond_Po', -0.0),\n",
       " ('BsmtCond_TA', 0.0),\n",
       " ('BsmtExposure_0', -0.0),\n",
       " ('BsmtExposure_Av', 0.0),\n",
       " ('BsmtExposure_Gd', 0.0),\n",
       " ('BsmtExposure_Mn', 0.0),\n",
       " ('BsmtExposure_No', -0.0),\n",
       " ('BsmtFinType1_0', -0.0),\n",
       " ('BsmtFinType1_ALQ', 0.0),\n",
       " ('BsmtFinType1_BLQ', -0.0),\n",
       " ('BsmtFinType1_GLQ', 0.0),\n",
       " ('BsmtFinType1_LwQ', -0.0),\n",
       " ('BsmtFinType1_Rec', -0.0),\n",
       " ('BsmtFinType1_Unf', -0.0),\n",
       " ('BsmtFinType2_0', -0.0),\n",
       " ('BsmtFinType2_ALQ', 0.0),\n",
       " ('BsmtFinType2_BLQ', -0.0),\n",
       " ('BsmtFinType2_GLQ', 0.0),\n",
       " ('BsmtFinType2_LwQ', 0.0),\n",
       " ('BsmtFinType2_Rec', 0.0),\n",
       " ('BsmtFinType2_Unf', 0.0),\n",
       " ('Heating_Floor', -0.0),\n",
       " ('Heating_GasA', 0.0),\n",
       " ('Heating_GasW', 0.0),\n",
       " ('Heating_Grav', -0.0),\n",
       " ('Heating_OthW', -0.0),\n",
       " ('Heating_Wall', -0.0),\n",
       " ('HeatingQC_Fa', -0.0),\n",
       " ('HeatingQC_Gd', -0.0),\n",
       " ('HeatingQC_Po', -0.0),\n",
       " ('HeatingQC_TA', -0.0),\n",
       " ('Electrical_FuseA', -0.0),\n",
       " ('Electrical_FuseF', -0.0),\n",
       " ('Electrical_FuseP', -0.0),\n",
       " ('Electrical_Mix', -0.0),\n",
       " ('Electrical_SBrkr', 0.0),\n",
       " ('KitchenQual_Ex', 0.0),\n",
       " ('KitchenQual_Fa', -0.0),\n",
       " ('KitchenQual_Gd', 0.0),\n",
       " ('Functional_Maj1', -0.0),\n",
       " ('Functional_Maj2', -0.0),\n",
       " ('Functional_Min1', -0.0),\n",
       " ('Functional_Min2', -0.0),\n",
       " ('Functional_Mod', -0.0),\n",
       " ('Functional_Sev', -0.0),\n",
       " ('Functional_Typ', 0.0),\n",
       " ('FireplaceQu_Ex', 0.0),\n",
       " ('FireplaceQu_Fa', 0.0),\n",
       " ('FireplaceQu_Gd', 0.0),\n",
       " ('FireplaceQu_Po', -0.0),\n",
       " ('FireplaceQu_TA', 0.0),\n",
       " ('GarageType_0', -0.0),\n",
       " ('GarageType_2Types', -0.0),\n",
       " ('GarageType_Basment', -0.0),\n",
       " ('GarageType_BuiltIn', 0.0),\n",
       " ('GarageType_CarPort', -0.0),\n",
       " ('GarageType_Detchd', -0.0),\n",
       " ('GarageFinish_0', -0.0),\n",
       " ('GarageFinish_Fin', 0.0),\n",
       " ('GarageFinish_RFn', 0.0),\n",
       " ('GarageFinish_Unf', -0.0),\n",
       " ('GarageQual_0', -0.0),\n",
       " ('GarageQual_Ex', 0.0),\n",
       " ('GarageQual_Fa', -0.0),\n",
       " ('GarageQual_Gd', 0.0),\n",
       " ('GarageQual_Po', -0.0),\n",
       " ('GarageQual_TA', 0.0),\n",
       " ('GarageCond_0', -0.0),\n",
       " ('GarageCond_Ex', 0.0),\n",
       " ('GarageCond_Fa', -0.0),\n",
       " ('GarageCond_Gd', 0.0),\n",
       " ('GarageCond_Po', -0.0),\n",
       " ('PavedDrive_N', -0.0),\n",
       " ('PavedDrive_P', -0.0),\n",
       " ('PavedDrive_Y', 0.0),\n",
       " ('PoolQC_0', -0.0),\n",
       " ('PoolQC_Ex', -0.0),\n",
       " ('PoolQC_Fa', 0.0),\n",
       " ('PoolQC_Gd', 0.0),\n",
       " ('Fence_0', 0.0),\n",
       " ('Fence_GdPrv', 0.0),\n",
       " ('Fence_GdWo', -0.0),\n",
       " ('Fence_MnPrv', -0.0),\n",
       " ('Fence_MnWw', -0.0),\n",
       " ('MiscFeature_0', 0.0),\n",
       " ('MiscFeature_Gar2', 0.0),\n",
       " ('MiscFeature_Othr', -0.0),\n",
       " ('MiscFeature_Shed', -0.0),\n",
       " ('MiscFeature_TenC', -0.0),\n",
       " ('SaleType_COD', -0.0),\n",
       " ('SaleType_CWD', 0.0),\n",
       " ('SaleType_Con', 0.0),\n",
       " ('SaleType_ConLD', -0.0),\n",
       " ('SaleType_ConLI', -0.0),\n",
       " ('SaleType_ConLw', -0.0),\n",
       " ('SaleType_New', 0.0),\n",
       " ('SaleType_Oth', -0.0),\n",
       " ('SaleType_WD', -0.0),\n",
       " ('SaleCondition_Abnorml', -0.0),\n",
       " ('SaleCondition_AdjLand', -0.0),\n",
       " ('SaleCondition_Alloca', -0.0),\n",
       " ('SaleCondition_Family', -0.0),\n",
       " ('SaleCondition_Normal', 0.0),\n",
       " ('SaleCondition_Partial', 0.0)]"
      ]
     },
     "execution_count": 122,
     "metadata": {},
     "output_type": "execute_result"
    }
   ],
   "source": [
    "enet_model.fit(scaled_df, train['SalePrice']) \n",
    "sorted(list(zip(train.columns, enet_model.coef_)), key=lambda coeff: abs(coeff[1]), reverse=True)"
   ]
  },
  {
   "cell_type": "markdown",
   "metadata": {},
   "source": [
    "My elastic net model ended up being the best. The model is probably useful in getting ballpark estimates about housing prices based on certain criteria, but the MSEs were still not quite as small as I would like. However, the model performs well when going from training to testing data, so it could still be useful, especially if a customer was looking for looking for houses and wanted to know roughly what was and wasn't in their budget. The model would, however, not perform as well with outliers, since outliers were originally stripped from the data set and it uses certain liner assumptions. It could be used for someone looking for a typical home trying to get an estimate of affordability. The above list shows that only a fraction of the variables had signifigant prediction power. My model gives most weight of overall quality, total square feet, above ground living area, recent remodeling, size of garage, Residential Medium Density, and a few other quality variables. It doesn't give any real weight to neighborhood, most sub classes and most quality variables. Because it isn't as sensitive to specifics like neighborhood, feature quality, and subclasses, I'd have decent confidence in the estimates it provides.  "
   ]
  },
  {
   "cell_type": "code",
   "execution_count": null,
   "metadata": {},
   "outputs": [],
   "source": []
  },
  {
   "cell_type": "code",
   "execution_count": null,
   "metadata": {},
   "outputs": [],
   "source": []
  }
 ],
 "metadata": {
  "kernelspec": {
   "display_name": "Python 3",
   "language": "python",
   "name": "python3"
  },
  "language_info": {
   "codemirror_mode": {
    "name": "ipython",
    "version": 3
   },
   "file_extension": ".py",
   "mimetype": "text/x-python",
   "name": "python",
   "nbconvert_exporter": "python",
   "pygments_lexer": "ipython3",
   "version": "3.7.1"
  }
 },
 "nbformat": 4,
 "nbformat_minor": 2
}
